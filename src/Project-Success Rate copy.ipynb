{
 "cells": [
  {
   "cell_type": "code",
   "execution_count": 1,
   "id": "f28a8c90",
   "metadata": {},
   "outputs": [],
   "source": [
    "import numpy as np\n",
    "import matplotlib.pyplot as plt\n",
    "import sklearn\n",
    "import sklearn.tree\n",
    "import sklearn.metrics\n",
    "import sklearn.ensemble\n",
    "import sklearn.preprocessing\n",
    "import sklearn.model_selection   # For cross_val_score, GridSearchCV, RandomizedSearchCV\n",
    "import pandas as pd\n",
    "plt.rcParams.update({'figure.max_open_warning': 0})"
   ]
  },
  {
   "cell_type": "code",
   "execution_count": 2,
   "id": "9fb599f4",
   "metadata": {},
   "outputs": [
    {
     "name": "stderr",
     "output_type": "stream",
     "text": [
      "/opt/anaconda3/lib/python3.8/site-packages/IPython/core/interactiveshell.py:3165: DtypeWarning: Columns (30,31) have mixed types.Specify dtype option on import or set low_memory=False.\n",
      "  has_raised = await self.run_ast_nodes(code_ast.body, cell_name,\n"
     ]
    },
    {
     "data": {
      "text/html": [
       "<div>\n",
       "<style scoped>\n",
       "    .dataframe tbody tr th:only-of-type {\n",
       "        vertical-align: middle;\n",
       "    }\n",
       "\n",
       "    .dataframe tbody tr th {\n",
       "        vertical-align: top;\n",
       "    }\n",
       "\n",
       "    .dataframe thead th {\n",
       "        text-align: right;\n",
       "    }\n",
       "</style>\n",
       "<table border=\"1\" class=\"dataframe\">\n",
       "  <thead>\n",
       "    <tr style=\"text-align: right;\">\n",
       "      <th></th>\n",
       "      <th>date</th>\n",
       "      <th>ticker</th>\n",
       "      <th>score_neg</th>\n",
       "      <th>score_neu</th>\n",
       "      <th>score_pos</th>\n",
       "      <th>score_compound</th>\n",
       "      <th>parent_score_neg</th>\n",
       "      <th>parent_score_neu</th>\n",
       "      <th>parent_score_pos</th>\n",
       "      <th>parent_score_compound</th>\n",
       "      <th>...</th>\n",
       "      <th>day_increase</th>\n",
       "      <th>tomorrw_is_buy</th>\n",
       "      <th>tomorrow_is_strong_buy</th>\n",
       "      <th>week_increase</th>\n",
       "      <th>week_is_buy</th>\n",
       "      <th>week_is_strong_buy</th>\n",
       "      <th>4week_is_buy</th>\n",
       "      <th>4week_is_strong_buy</th>\n",
       "      <th>volume</th>\n",
       "      <th>today_close</th>\n",
       "    </tr>\n",
       "  </thead>\n",
       "  <tbody>\n",
       "    <tr>\n",
       "      <th>0</th>\n",
       "      <td>2014-01-02</td>\n",
       "      <td>ago</td>\n",
       "      <td>0.000</td>\n",
       "      <td>0.909</td>\n",
       "      <td>0.091</td>\n",
       "      <td>0.9394</td>\n",
       "      <td>0.045</td>\n",
       "      <td>0.83</td>\n",
       "      <td>0.125</td>\n",
       "      <td>0.9923</td>\n",
       "      <td>...</td>\n",
       "      <td>0.98643</td>\n",
       "      <td>0</td>\n",
       "      <td>0</td>\n",
       "      <td>1.00000</td>\n",
       "      <td>0</td>\n",
       "      <td>0</td>\n",
       "      <td>0</td>\n",
       "      <td>0</td>\n",
       "      <td>53000.78535</td>\n",
       "      <td>20.229889</td>\n",
       "    </tr>\n",
       "    <tr>\n",
       "      <th>1</th>\n",
       "      <td>2014-01-02</td>\n",
       "      <td>awre</td>\n",
       "      <td>0.000</td>\n",
       "      <td>0.909</td>\n",
       "      <td>0.091</td>\n",
       "      <td>0.9394</td>\n",
       "      <td>0.045</td>\n",
       "      <td>0.83</td>\n",
       "      <td>0.125</td>\n",
       "      <td>0.9923</td>\n",
       "      <td>...</td>\n",
       "      <td>0.99018</td>\n",
       "      <td>0</td>\n",
       "      <td>0</td>\n",
       "      <td>1.00000</td>\n",
       "      <td>0</td>\n",
       "      <td>0</td>\n",
       "      <td>1</td>\n",
       "      <td>1</td>\n",
       "      <td>3997.22252</td>\n",
       "      <td>4.453092</td>\n",
       "    </tr>\n",
       "    <tr>\n",
       "      <th>2</th>\n",
       "      <td>2014-01-02</td>\n",
       "      <td>ago</td>\n",
       "      <td>0.000</td>\n",
       "      <td>0.885</td>\n",
       "      <td>0.115</td>\n",
       "      <td>0.2960</td>\n",
       "      <td>0.045</td>\n",
       "      <td>0.83</td>\n",
       "      <td>0.125</td>\n",
       "      <td>0.9923</td>\n",
       "      <td>...</td>\n",
       "      <td>0.98643</td>\n",
       "      <td>0</td>\n",
       "      <td>0</td>\n",
       "      <td>1.00000</td>\n",
       "      <td>0</td>\n",
       "      <td>0</td>\n",
       "      <td>0</td>\n",
       "      <td>0</td>\n",
       "      <td>53000.78535</td>\n",
       "      <td>20.229889</td>\n",
       "    </tr>\n",
       "    <tr>\n",
       "      <th>3</th>\n",
       "      <td>2014-01-02</td>\n",
       "      <td>ago</td>\n",
       "      <td>0.000</td>\n",
       "      <td>0.936</td>\n",
       "      <td>0.064</td>\n",
       "      <td>0.2960</td>\n",
       "      <td>0.045</td>\n",
       "      <td>0.83</td>\n",
       "      <td>0.125</td>\n",
       "      <td>0.9923</td>\n",
       "      <td>...</td>\n",
       "      <td>0.98643</td>\n",
       "      <td>0</td>\n",
       "      <td>0</td>\n",
       "      <td>1.00000</td>\n",
       "      <td>0</td>\n",
       "      <td>0</td>\n",
       "      <td>0</td>\n",
       "      <td>0</td>\n",
       "      <td>53000.78535</td>\n",
       "      <td>20.229889</td>\n",
       "    </tr>\n",
       "    <tr>\n",
       "      <th>4</th>\n",
       "      <td>2014-01-02</td>\n",
       "      <td>fund</td>\n",
       "      <td>0.031</td>\n",
       "      <td>0.879</td>\n",
       "      <td>0.089</td>\n",
       "      <td>0.5707</td>\n",
       "      <td>0.045</td>\n",
       "      <td>0.83</td>\n",
       "      <td>0.125</td>\n",
       "      <td>0.9923</td>\n",
       "      <td>...</td>\n",
       "      <td>0.99344</td>\n",
       "      <td>0</td>\n",
       "      <td>0</td>\n",
       "      <td>1.01717</td>\n",
       "      <td>0</td>\n",
       "      <td>0</td>\n",
       "      <td>0</td>\n",
       "      <td>0</td>\n",
       "      <td>8010.22674</td>\n",
       "      <td>4.394382</td>\n",
       "    </tr>\n",
       "  </tbody>\n",
       "</table>\n",
       "<p>5 rows × 28 columns</p>\n",
       "</div>"
      ],
      "text/plain": [
       "         date ticker  score_neg  score_neu  score_pos  score_compound  \\\n",
       "0  2014-01-02    ago      0.000      0.909      0.091          0.9394   \n",
       "1  2014-01-02   awre      0.000      0.909      0.091          0.9394   \n",
       "2  2014-01-02    ago      0.000      0.885      0.115          0.2960   \n",
       "3  2014-01-02    ago      0.000      0.936      0.064          0.2960   \n",
       "4  2014-01-02   fund      0.031      0.879      0.089          0.5707   \n",
       "\n",
       "   parent_score_neg  parent_score_neu  parent_score_pos  \\\n",
       "0             0.045              0.83             0.125   \n",
       "1             0.045              0.83             0.125   \n",
       "2             0.045              0.83             0.125   \n",
       "3             0.045              0.83             0.125   \n",
       "4             0.045              0.83             0.125   \n",
       "\n",
       "   parent_score_compound  ...  day_increase  tomorrw_is_buy  \\\n",
       "0                 0.9923  ...       0.98643               0   \n",
       "1                 0.9923  ...       0.99018               0   \n",
       "2                 0.9923  ...       0.98643               0   \n",
       "3                 0.9923  ...       0.98643               0   \n",
       "4                 0.9923  ...       0.99344               0   \n",
       "\n",
       "   tomorrow_is_strong_buy  week_increase  week_is_buy  week_is_strong_buy  \\\n",
       "0                       0        1.00000            0                   0   \n",
       "1                       0        1.00000            0                   0   \n",
       "2                       0        1.00000            0                   0   \n",
       "3                       0        1.00000            0                   0   \n",
       "4                       0        1.01717            0                   0   \n",
       "\n",
       "   4week_is_buy  4week_is_strong_buy       volume  today_close  \n",
       "0             0                    0  53000.78535    20.229889  \n",
       "1             1                    1   3997.22252     4.453092  \n",
       "2             0                    0  53000.78535    20.229889  \n",
       "3             0                    0  53000.78535    20.229889  \n",
       "4             0                    0   8010.22674     4.394382  \n",
       "\n",
       "[5 rows x 28 columns]"
      ]
     },
     "execution_count": 2,
     "metadata": {},
     "output_type": "execute_result"
    }
   ],
   "source": [
    "#training as y target values of y = tomororrow_is_buy\n",
    "data = pd.read_csv('out.csv')\n",
    "data.drop(data.columns[data.columns.str.contains('unnamed',case = False)],axis = 1, inplace = True)\n",
    "data = data.dropna(axis=1)\n",
    "X = data.drop([\"date\",\"ticker\",\"tomorrw_is_buy\",\"tomorrow_is_strong_buy\",\"week_is_buy\",\"week_is_strong_buy\",\"4week_is_buy\",\"4week_is_strong_buy\"],axis=1)\n",
    "y = data.tomorrw_is_buy\n",
    "X = X.values\n",
    "y = y.values\n",
    "data.head()"
   ]
  },
  {
   "cell_type": "code",
   "execution_count": 3,
   "id": "68296c08",
   "metadata": {},
   "outputs": [
    {
     "name": "stdout",
     "output_type": "stream",
     "text": [
      "(240956, 20) (80319, 20) (240956,) (80319,)\n"
     ]
    }
   ],
   "source": [
    "#split data into 60-20-20\n",
    "#test set\n",
    "x_remaining, Xtest, y_remaining, ytest = sklearn.model_selection.train_test_split(X, y, test_size=0.20,\n",
    "                                                                                  random_state=0)\n",
    "#validation and training set\n",
    "Xtrn, Xval, ytrn, yval = sklearn.model_selection.train_test_split(x_remaining, y_remaining, test_size=0.25,\n",
    "                                                                  random_state=0)\n",
    "print(Xtrn.shape,Xval.shape,ytrn.shape,yval.shape)"
   ]
  },
  {
   "cell_type": "code",
   "execution_count": 4,
   "id": "629af4aa",
   "metadata": {},
   "outputs": [],
   "source": [
    "#scaling values \n",
    "scaler = sklearn.preprocessing.StandardScaler()\n",
    "X_trn = scaler.fit_transform(Xtrn.reshape(Xtrn.shape[0],-1))\n",
    "X_test = scaler.transform(Xtest.reshape(Xtest.shape[0],-1))\n",
    "X_val = scaler.transform(Xval.reshape(Xval.shape[0],-1))"
   ]
  },
  {
   "cell_type": "code",
   "execution_count": 5,
   "id": "40bbbc0f",
   "metadata": {},
   "outputs": [],
   "source": [
    "def plot_grid_search(grid,title):\n",
    "    \"\"\"\n",
    "    Params: \n",
    "        grid: A trained GridSearchCV object.\n",
    "    \"\"\"  \n",
    "    #makes sure the x axis points are evenly spaced\n",
    "    train_score = grid.cv_results_['mean_train_score']\n",
    "    test_score = grid.cv_results_['mean_test_score']\n",
    "    plt.plot(train_score,'-ok',color='green',label=\"train = %.3f\" %(max(train_score)))\n",
    "    plt.plot(test_score,linestyle='dotted',color='black',label=\"test = %.3f\" %(max(test_score)))\n",
    "    locs, labels = plt.xticks()\n",
    "#     plt.xticks(locs,grid.cv_results_['params'],rotation=\"vertical\")\n",
    "    plt.xticks()\n",
    "    plt.legend(loc=\"upper left\")\n",
    "    plt.xlabel(\"estimator\")\n",
    "    plt.ylabel(\"mean_score\")\n",
    "    plt.title(f'{title} score vs estimators')\n",
    "    "
   ]
  },
  {
   "cell_type": "code",
   "execution_count": 16,
   "id": "8a121cdf",
   "metadata": {},
   "outputs": [
    {
     "name": "stdout",
     "output_type": "stream",
     "text": [
      "best score: 0.9418607498512654\n",
      "best estimator: DecisionTreeClassifier(max_depth=20, random_state=0)\n",
      "best parameter: {'criterion': 'gini', 'max_depth': 20}\n",
      "CPU times: user 7min 7s, sys: 5.05 s, total: 7min 12s\n",
      "Wall time: 8min 24s\n"
     ]
    }
   ],
   "source": [
    "%%time\n",
    "tree = sklearn.tree.DecisionTreeClassifier(random_state=0)\n",
    "tree_param = {'criterion':['gini','entropy'],'max_depth':[1, 5, 10, 20, 50, 100]}\n",
    "tree_estimator = sklearn.model_selection.GridSearchCV(tree,param_grid=tree_param,cv=5,return_train_score=True)\n",
    "tree_estimator.fit(X_trn,ytrn)\n",
    "\n",
    "print(f\"best score: {tree_estimator.best_score_}\")\n",
    "print(f\"best estimator: {tree_estimator.best_estimator_}\")\n",
    "print(f\"best parameter: {tree_estimator.best_params_}\")"
   ]
  },
  {
   "cell_type": "code",
   "execution_count": 27,
   "id": "40df5409",
   "metadata": {},
   "outputs": [
    {
     "name": "stdout",
     "output_type": "stream",
     "text": [
      "CPU times: user 64.7 ms, sys: 48.1 ms, total: 113 ms\n",
      "Wall time: 144 ms\n"
     ]
    },
    {
     "data": {
      "image/png": "[encoded data removed]",
      "text/plain": [
       "<Figure size 432x288 with 1 Axes>"
      ]
     },
     "metadata": {
      "needs_background": "light"
     },
     "output_type": "display_data"
    }
   ],
   "source": [
    "%%time\n",
    "plot_grid_search(tree_estimator,\"DecisionTreeClassifier\")"
   ]
  },
  {
   "cell_type": "code",
   "execution_count": 28,
   "id": "04e7875c",
   "metadata": {},
   "outputs": [
    {
     "name": "stdout",
     "output_type": "stream",
     "text": [
      "best score: 0.9340169975028537\n",
      "best estimator: RandomForestClassifier(max_depth=100, n_estimators=10, random_state=0)\n",
      "best parameter: {'max_depth': 100, 'n_estimators': 10}\n",
      "CPU times: user 15min 23s, sys: 16.4 s, total: 15min 39s\n",
      "Wall time: 17min 34s\n"
     ]
    }
   ],
   "source": [
    "%%time\n",
    "forest = sklearn.ensemble.RandomForestClassifier(random_state=0)\n",
    "forest_param = {'n_estimators':[1, 2, 4, 6, 8, 10],'max_depth':[1, 5, 10, 20, 50, 100]}\n",
    "forest_estimator = sklearn.model_selection.GridSearchCV(forest,param_grid=forest_param,cv=5,return_train_score=True)\n",
    "forest_estimator.fit(X_trn,ytrn)\n",
    "print(f\"best score: {forest_estimator.best_score_}\")\n",
    "print(f\"best estimator: {forest_estimator.best_estimator_}\")\n",
    "print(f\"best parameter: {forest_estimator.best_params_}\")"
   ]
  },
  {
   "cell_type": "code",
   "execution_count": 29,
   "id": "ad6a93bc",
   "metadata": {},
   "outputs": [
    {
     "data": {
      "image/png": "[encoded data removed]",
      "text/plain": [
       "<Figure size 432x288 with 1 Axes>"
      ]
     },
     "metadata": {
      "needs_background": "light"
     },
     "output_type": "display_data"
    }
   ],
   "source": [
    "plot_grid_search(forest_estimator,\"RandomForestClassifier\")"
   ]
  },
  {
   "cell_type": "code",
   "execution_count": 6,
   "id": "75bdbc84",
   "metadata": {},
   "outputs": [
    {
     "name": "stdout",
     "output_type": "stream",
     "text": [
      "best score: 0.8892577898135416\n",
      "best estimator: LogisticRegression(C=0.0001, max_iter=1000, random_state=0)\n",
      "best parameter: {'C': 0.0001}\n",
      "CPU times: user 29.8 s, sys: 2.08 s, total: 31.8 s\n",
      "Wall time: 26 s\n"
     ]
    }
   ],
   "source": [
    "%%time\n",
    "log = sklearn.linear_model.LogisticRegression(random_state=0,max_iter=1000)\n",
    "log_param = {'C':[1e-05, 0.0001, 0.001, 0.01, 0.1,1.0]}\n",
    "log_estimator = sklearn.model_selection.GridSearchCV(log,param_grid=log_param,cv=5,return_train_score=True)\n",
    "log_estimator.fit(X_trn,ytrn)\n",
    "\n",
    "print(f\"best score: {log_estimator.best_score_}\")\n",
    "print(f\"best estimator: {log_estimator.best_estimator_}\")\n",
    "print(f\"best parameter: {log_estimator.best_params_}\")"
   ]
  },
  {
   "cell_type": "code",
   "execution_count": 15,
   "id": "684da819",
   "metadata": {},
   "outputs": [
    {
     "data": {
      "text/plain": [
       "Text(0.5, 1.0, 'LogisticRegression score vs estimator')"
      ]
     },
     "execution_count": 15,
     "metadata": {},
     "output_type": "execute_result"
    },
    {
     "data": {
      "image/png": "[encoded data removed]",
      "text/plain": [
       "<Figure size 432x288 with 1 Axes>"
      ]
     },
     "metadata": {
      "needs_background": "light"
     },
     "output_type": "display_data"
    }
   ],
   "source": [
    "# plot_grid_search(log_estimator,\"LogisticRegression\")\n",
    "train_score = log_estimator.cv_results_['mean_train_score']\n",
    "test_score = log_estimator.cv_results_['mean_test_score']\n",
    "locs, labels = plt.xticks()\n",
    "plt.plot(locs,train_score,'-ok',color='green',label=\"train = %.3f\" %(max(train_score)))\n",
    "plt.plot(locs,test_score,linestyle='dotted',color='black',label=\"test = %.3f\" %(max(test_score)))\n",
    "plt.xticks(locs,log_estimator.cv_results_['params'],rotation=\"vertical\")\n",
    "plt.legend(loc=\"upper left\")\n",
    "plt.xlabel(\"estimators\")\n",
    "plt.ylabel(\"mean_score\")\n",
    "plt.title(f'{\"LogisticRegression\"} score vs estimator')"
   ]
  },
  {
   "cell_type": "code",
   "execution_count": null,
   "id": "2175db0e",
   "metadata": {},
   "outputs": [],
   "source": [
    "%%time\n",
    "svm = sklearn.svm.SVC(random_state=0)\n",
    "svm_param = {'C':[0.001, 0.01, 0.1,1.0], 'gamma':[0.01, 0.1, 1, 10], 'kernel':['linear','poly','rbf']}\n",
    "svm_estimator = sklearn.model_selection.GridSearchCV(svm,param_grid=svm_param,cv=5)\n",
    "svm_estimator.fit(X_trn,ytrn)\n",
    "print(f\"best score: {svm_estimator.best_score_}\")\n",
    "print(f\"best estimator: {svm_estimator.best_estimator_}\")\n",
    "print(f\"best parameter: {svm_estimator.best_params_}\")"
   ]
  },
  {
   "cell_type": "code",
   "execution_count": null,
   "id": "b0540977",
   "metadata": {},
   "outputs": [],
   "source": []
  }
 ],
 "metadata": {
  "kernelspec": {
   "display_name": "Python 3",
   "language": "python",
   "name": "python3"
  },
  "language_info": {
   "codemirror_mode": {
    "name": "ipython",
    "version": 3
   },
   "file_extension": ".py",
   "mimetype": "text/x-python",
   "name": "python",
   "nbconvert_exporter": "python",
   "pygments_lexer": "ipython3",
   "version": "3.8.8"
  }
 },
 "nbformat": 4,
 "nbformat_minor": 5
}
