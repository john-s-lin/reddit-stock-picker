{
 "cells": [
  {
   "cell_type": "markdown",
   "metadata": {},
   "source": [
    "# Data Preprocessing\n",
    "Once we have extracted our JSON files with our webcrawler, we now want to preprocess the data to 1) extract the ticker label, if available, and 2) generate a \"sentimental\" score from the cleaned text."
   ]
  },
  {
   "cell_type": "code",
   "execution_count": 1,
   "metadata": {},
   "outputs": [],
   "source": [
    "# Import dependencies\n",
    "import os\n",
    "import json\n",
    "import numpy as np\n",
    "import pandas as pd\n",
    "import yfinance\n",
    "from vaderSentiment.vaderSentiment import SentimentIntensityAnalyzer"
   ]
  },
  {
   "cell_type": "markdown",
   "metadata": {},
   "source": [
    "We will now define some functions that will extract the relevant data from the JSON and clean it up."
   ]
  },
  {
   "cell_type": "code",
   "execution_count": 2,
   "metadata": {},
   "outputs": [
    {
     "name": "stdout",
     "output_type": "stream",
     "text": [
      "../data already exists.\n",
      "{'time': 1535842940.0, 'submission_id': '9c7fgn', 'comment_id': 'e58klkx', 'body': 'This will literally be the longest 3 days of my life.', 'score': 649, 'num_replies': 3, 'is_root': 1, 'submission_score': 7153, 'submission_ratio': 0.09073116175031455, 'submission_title': 'When the stock market is closed', 'submission_text': '[deleted]', 'parent_text': 'When the stock market is closed [deleted]', 'parent_score': 7153, 'parent_ratio': 0.09073116175031455}\n",
      "I promise you, you will lose it if you continue to do what you did man. Huge congrats, but do 6 month/leap calls and take it easy.\n"
     ]
    }
   ],
   "source": [
    "# Make sure ./data exists in our folder tree\n",
    "if not os.path.exists(\"../data\"):\n",
    "    print(\"Making directory ../data...\")\n",
    "    os.makedirs(\"../data\")\n",
    "else:\n",
    "    print(\"../data already exists.\")\n",
    "\n",
    "def extract_json(filename: str) -> dict:\n",
    "    \"\"\"Extracts JSON file and returns a dictionary\"\"\"\n",
    "    with open(filename) as json_file:\n",
    "        json_dict = json.load(json_file)\n",
    "    \n",
    "    return json_dict\n",
    "\n",
    "test_data = extract_json(\"../data/test/2018-09-01.json\")\n",
    "print(test_data[0])\n",
    "print(test_data[np.random.randint(len(test_data))]['body'])"
   ]
  },
  {
   "cell_type": "markdown",
   "metadata": {},
   "source": [
    "Before we can clean up our text, we need to define a function to grab the ticker of a post. If the ticker does not exist, the post is probably not relevant since we have no way to correlate a post with a specific stock. After confirming a valid ticker in a post, we have to define a function that will clean up the body of our text."
   ]
  },
  {
   "cell_type": "code",
   "execution_count": 3,
   "metadata": {},
   "outputs": [],
   "source": [
    "rand_val = np.random.randint(len(test_data))\n",
    "text = test_data[rand_val]\n",
    "\n",
    "def get_ticker(raw : dict):\n",
    "    \"\"\"Returns a ticker if it exists, else returns none\"\"\"\n",
    "    # Check title for ticker first\n",
    "    title = raw['submission_title'].split(' ')\n",
    "    for word in title:\n",
    "        if (is_valid_ticker(word)):\n",
    "            # If something is a valid ticker, return the ticker\n",
    "            return word\n",
    "\n",
    "    # Check body for ticker\n",
    "    body = raw['body'].split(' ')\n",
    "    for word in body:\n",
    "        if (is_valid_ticker(word)):\n",
    "            # If something is a valid ticker, return the ticker\n",
    "            return word\n",
    "    \n",
    "    # Return None otherwise\n",
    "    return None\n",
    "\n",
    "def is_valid_ticker(word):\n",
    "    \"\"\"Returns boolean if ticker is valid or not\"\"\"\n",
    "    ticker = yfinance.Ticker(word)\n",
    "    \n",
    "    # If there is no regularMarketPrice, there is definitely not a ticker\n",
    "    if ticker.info['regularMarketPrice'] == None:\n",
    "        return False\n",
    "    else:\n",
    "        return True\n",
    "\n",
    "# Test code\n",
    "# print(get_ticker(text))"
   ]
  },
  {
   "cell_type": "code",
   "execution_count": 4,
   "metadata": {},
   "outputs": [
    {
     "name": "stdout",
     "output_type": "stream",
     "text": [
      "Most Anticipated Earnings Releases for the week beginning September 3, 2018 {'neg': 0.0, 'neu': 1.0, 'pos': 0.0, 'compound': 0.0}\n",
      "GameStop? Puts? {'neg': 0.0, 'neu': 1.0, 'pos': 0.0, 'compound': 0.0}\n"
     ]
    }
   ],
   "source": [
    "rand_index = np.random.randint(len(test_data))\n",
    "text = test_data[rand_index]\n",
    "text_title = text['submission_title']\n",
    "text_body = text['body']\n",
    "analyzer = SentimentIntensityAnalyzer()\n",
    "score_title = analyzer.polarity_scores(text_title)\n",
    "score_body = analyzer.polarity_scores(text_body)\n",
    "print(f\"{text_title} {str(score_title)}\")\n",
    "print(f\"{text_body} {str(score_body)}\")"
   ]
  },
  {
   "cell_type": "code",
   "execution_count": 5,
   "metadata": {},
   "outputs": [
    {
     "data": {
      "text/plain": [
       "{'neg': 0.0, 'neu': 1.0, 'pos': 0.0, 'compound': 0.0}"
      ]
     },
     "execution_count": 5,
     "metadata": {},
     "output_type": "execute_result"
    }
   ],
   "source": [
    "def get_sentimental_score(text):\n",
    "    \"\"\"Returns a sentimental score given a string of text using VaderSentimentalAnalysis\"\"\"\n",
    "    analyzer = SentimentIntensityAnalyzer()\n",
    "    score = analyzer.polarity_scores(text)\n",
    "    return score\n",
    "\n",
    "get_sentimental_score(text_title)"
   ]
  },
  {
   "cell_type": "code",
   "execution_count": 6,
   "metadata": {},
   "outputs": [
    {
     "name": "stdout",
     "output_type": "stream",
     "text": [
      "Text: I am SO happy!\tScore: {'neg': 0.0, 'neu': 0.335, 'pos': 0.665, 'compound': 0.7875}\n",
      "Text: i am so happy\tScore: {'neg': 0.0, 'neu': 0.388, 'pos': 0.612, 'compound': 0.6948}\n"
     ]
    }
   ],
   "source": [
    "baseline_text = \"I am SO happy!\"\n",
    "processed_text = \"i am so happy\"\n",
    "\n",
    "print(f\"Text: {baseline_text}\\tScore: {get_sentimental_score(baseline_text)}\")\n",
    "print(f\"Text: {processed_text}\\tScore: {get_sentimental_score(processed_text)}\")"
   ]
  },
  {
   "cell_type": "code",
   "execution_count": 7,
   "metadata": {},
   "outputs": [
    {
     "name": "stdout",
     "output_type": "stream",
     "text": [
      "Text: $MSFT to buy back $60 BILLION in shares and increase dividend 11%\tScore: {'neg': 0.0, 'neu': 0.69, 'pos': 0.31, 'compound': 0.5423}\n"
     ]
    }
   ],
   "source": [
    "text = \"$MSFT to buy back $60 BILLION in shares and increase dividend 11%\"\n",
    "print(f\"Text: {text}\\tScore: {get_sentimental_score(text)}\")"
   ]
  }
 ],
 "metadata": {
  "interpreter": {
   "hash": "a3a41ee9909c3927daab64c1548d963ca2ce4212e6d1da01c6ae3fe875d7bb01"
  },
  "kernelspec": {
   "display_name": "Python 3.8.12 64-bit ('base': conda)",
   "language": "python",
   "name": "python3"
  },
  "language_info": {
   "codemirror_mode": {
    "name": "ipython",
    "version": 3
   },
   "file_extension": ".py",
   "mimetype": "text/x-python",
   "name": "python",
   "nbconvert_exporter": "python",
   "pygments_lexer": "ipython3",
   "version": "3.8.12"
  },
  "orig_nbformat": 4
 },
 "nbformat": 4,
 "nbformat_minor": 2
}
