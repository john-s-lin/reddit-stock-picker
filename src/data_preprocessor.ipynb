{
 "cells": [
  {
   "cell_type": "markdown",
   "metadata": {},
   "source": [
    "# Data Preprocessing\n",
    "Once we have extracted our JSON files with our webcrawler, we now want to preprocess the data to 1) extract the ticker label, if available, and 2) generate a \"sentimental\" score from the cleaned text."
   ]
  },
  {
   "cell_type": "code",
   "execution_count": 1,
   "metadata": {},
   "outputs": [],
   "source": [
    "# Import dependencies\n",
    "import os\n",
    "import json\n",
    "import numpy as np\n",
    "import pandas as pd"
   ]
  },
  {
   "cell_type": "markdown",
   "metadata": {},
   "source": [
    "We will now define some functions that will extract the relevant data from the JSON and clean it up."
   ]
  },
  {
   "cell_type": "code",
   "execution_count": 24,
   "metadata": {},
   "outputs": [
    {
     "name": "stdout",
     "output_type": "stream",
     "text": [
      "../data already exists.\n",
      "Not from my analytical standpoint, it aint. It might drop $5 at some point in the near future, but it'll bounce back, it's on a very strong positive trend\n"
     ]
    }
   ],
   "source": [
    "# Make sure ./data exists in our folder tree\n",
    "if not os.path.exists(\"../data\"):\n",
    "    print(\"Making directory ../data...\")\n",
    "    os.makedirs(\"../data\")\n",
    "else:\n",
    "    print(\"../data already exists.\")\n",
    "\n",
    "def extract_json(filename: str) -> dict:\n",
    "    \"\"\"Extracts JSON file and returns a dictionary\"\"\"\n",
    "    with open(filename) as json_file:\n",
    "        json_dict = json.load(json_file)\n",
    "    \n",
    "    return json_dict\n",
    "\n",
    "test_data = extract_json(\"../data/2018-09-01.json\")\n",
    "print(test_data[np.random.randint(len(test_data))]['body'])"
   ]
  },
  {
   "cell_type": "code",
   "execution_count": null,
   "metadata": {},
   "outputs": [],
   "source": []
  }
 ],
 "metadata": {
  "interpreter": {
   "hash": "a3a41ee9909c3927daab64c1548d963ca2ce4212e6d1da01c6ae3fe875d7bb01"
  },
  "kernelspec": {
   "display_name": "Python 3.8.12 64-bit ('base': conda)",
   "language": "python",
   "name": "python3"
  },
  "language_info": {
   "codemirror_mode": {
    "name": "ipython",
    "version": 3
   },
   "file_extension": ".py",
   "mimetype": "text/x-python",
   "name": "python",
   "nbconvert_exporter": "python",
   "pygments_lexer": "ipython3",
   "version": "3.8.12"
  },
  "orig_nbformat": 4
 },
 "nbformat": 4,
 "nbformat_minor": 2
}
