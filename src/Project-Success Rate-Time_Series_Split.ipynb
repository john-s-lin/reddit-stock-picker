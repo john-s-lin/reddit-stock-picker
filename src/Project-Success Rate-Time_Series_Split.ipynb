{
 "cells": [
  {
   "cell_type": "code",
   "execution_count": 1,
   "id": "f28a8c90",
   "metadata": {},
   "outputs": [],
   "source": [
    "import joblib\n",
    "import numpy as np\n",
    "import matplotlib.pyplot as plt\n",
    "import sklearn\n",
    "import sklearn.tree\n",
    "import sklearn.metrics\n",
    "import sklearn.ensemble\n",
    "import sklearn.preprocessing\n",
    "import sklearn.model_selection   # For cross_val_score, GridSearchCV, RandomizedSearchCV\n",
    "import pandas as pd\n",
    "plt.rcParams.update({'figure.max_open_warning': 0})"
   ]
  },
  {
   "cell_type": "code",
   "execution_count": 2,
   "id": "9fb599f4",
   "metadata": {},
   "outputs": [
    {
     "name": "stderr",
     "output_type": "stream",
     "text": [
      "/opt/anaconda3/lib/python3.8/site-packages/IPython/core/interactiveshell.py:3165: DtypeWarning: Columns (30,31) have mixed types.Specify dtype option on import or set low_memory=False.\n",
      "  has_raised = await self.run_ast_nodes(code_ast.body, cell_name,\n"
     ]
    },
    {
     "data": {
      "text/html": [
       "<div>\n",
       "<style scoped>\n",
       "    .dataframe tbody tr th:only-of-type {\n",
       "        vertical-align: middle;\n",
       "    }\n",
       "\n",
       "    .dataframe tbody tr th {\n",
       "        vertical-align: top;\n",
       "    }\n",
       "\n",
       "    .dataframe thead th {\n",
       "        text-align: right;\n",
       "    }\n",
       "</style>\n",
       "<table border=\"1\" class=\"dataframe\">\n",
       "  <thead>\n",
       "    <tr style=\"text-align: right;\">\n",
       "      <th></th>\n",
       "      <th>date</th>\n",
       "      <th>ticker</th>\n",
       "      <th>score_neg</th>\n",
       "      <th>score_neu</th>\n",
       "      <th>score_pos</th>\n",
       "      <th>score_compound</th>\n",
       "      <th>parent_score_neg</th>\n",
       "      <th>parent_score_neu</th>\n",
       "      <th>parent_score_pos</th>\n",
       "      <th>parent_score_compound</th>\n",
       "      <th>...</th>\n",
       "      <th>day_increase</th>\n",
       "      <th>tomorrw_is_buy</th>\n",
       "      <th>tomorrow_is_strong_buy</th>\n",
       "      <th>week_increase</th>\n",
       "      <th>week_is_buy</th>\n",
       "      <th>week_is_strong_buy</th>\n",
       "      <th>4week_is_buy</th>\n",
       "      <th>4week_is_strong_buy</th>\n",
       "      <th>volume</th>\n",
       "      <th>today_close</th>\n",
       "    </tr>\n",
       "  </thead>\n",
       "  <tbody>\n",
       "    <tr>\n",
       "      <th>0</th>\n",
       "      <td>2014-01-02</td>\n",
       "      <td>ago</td>\n",
       "      <td>0.000</td>\n",
       "      <td>0.909</td>\n",
       "      <td>0.091</td>\n",
       "      <td>0.9394</td>\n",
       "      <td>0.045</td>\n",
       "      <td>0.83</td>\n",
       "      <td>0.125</td>\n",
       "      <td>0.9923</td>\n",
       "      <td>...</td>\n",
       "      <td>0.98643</td>\n",
       "      <td>0</td>\n",
       "      <td>0</td>\n",
       "      <td>1.00000</td>\n",
       "      <td>0</td>\n",
       "      <td>0</td>\n",
       "      <td>0</td>\n",
       "      <td>0</td>\n",
       "      <td>53000.78535</td>\n",
       "      <td>20.229889</td>\n",
       "    </tr>\n",
       "    <tr>\n",
       "      <th>1</th>\n",
       "      <td>2014-01-02</td>\n",
       "      <td>awre</td>\n",
       "      <td>0.000</td>\n",
       "      <td>0.909</td>\n",
       "      <td>0.091</td>\n",
       "      <td>0.9394</td>\n",
       "      <td>0.045</td>\n",
       "      <td>0.83</td>\n",
       "      <td>0.125</td>\n",
       "      <td>0.9923</td>\n",
       "      <td>...</td>\n",
       "      <td>0.99018</td>\n",
       "      <td>0</td>\n",
       "      <td>0</td>\n",
       "      <td>1.00000</td>\n",
       "      <td>0</td>\n",
       "      <td>0</td>\n",
       "      <td>1</td>\n",
       "      <td>1</td>\n",
       "      <td>3997.22252</td>\n",
       "      <td>4.453092</td>\n",
       "    </tr>\n",
       "    <tr>\n",
       "      <th>2</th>\n",
       "      <td>2014-01-02</td>\n",
       "      <td>ago</td>\n",
       "      <td>0.000</td>\n",
       "      <td>0.885</td>\n",
       "      <td>0.115</td>\n",
       "      <td>0.2960</td>\n",
       "      <td>0.045</td>\n",
       "      <td>0.83</td>\n",
       "      <td>0.125</td>\n",
       "      <td>0.9923</td>\n",
       "      <td>...</td>\n",
       "      <td>0.98643</td>\n",
       "      <td>0</td>\n",
       "      <td>0</td>\n",
       "      <td>1.00000</td>\n",
       "      <td>0</td>\n",
       "      <td>0</td>\n",
       "      <td>0</td>\n",
       "      <td>0</td>\n",
       "      <td>53000.78535</td>\n",
       "      <td>20.229889</td>\n",
       "    </tr>\n",
       "    <tr>\n",
       "      <th>3</th>\n",
       "      <td>2014-01-02</td>\n",
       "      <td>ago</td>\n",
       "      <td>0.000</td>\n",
       "      <td>0.936</td>\n",
       "      <td>0.064</td>\n",
       "      <td>0.2960</td>\n",
       "      <td>0.045</td>\n",
       "      <td>0.83</td>\n",
       "      <td>0.125</td>\n",
       "      <td>0.9923</td>\n",
       "      <td>...</td>\n",
       "      <td>0.98643</td>\n",
       "      <td>0</td>\n",
       "      <td>0</td>\n",
       "      <td>1.00000</td>\n",
       "      <td>0</td>\n",
       "      <td>0</td>\n",
       "      <td>0</td>\n",
       "      <td>0</td>\n",
       "      <td>53000.78535</td>\n",
       "      <td>20.229889</td>\n",
       "    </tr>\n",
       "    <tr>\n",
       "      <th>4</th>\n",
       "      <td>2014-01-02</td>\n",
       "      <td>fund</td>\n",
       "      <td>0.031</td>\n",
       "      <td>0.879</td>\n",
       "      <td>0.089</td>\n",
       "      <td>0.5707</td>\n",
       "      <td>0.045</td>\n",
       "      <td>0.83</td>\n",
       "      <td>0.125</td>\n",
       "      <td>0.9923</td>\n",
       "      <td>...</td>\n",
       "      <td>0.99344</td>\n",
       "      <td>0</td>\n",
       "      <td>0</td>\n",
       "      <td>1.01717</td>\n",
       "      <td>0</td>\n",
       "      <td>0</td>\n",
       "      <td>0</td>\n",
       "      <td>0</td>\n",
       "      <td>8010.22674</td>\n",
       "      <td>4.394382</td>\n",
       "    </tr>\n",
       "  </tbody>\n",
       "</table>\n",
       "<p>5 rows × 28 columns</p>\n",
       "</div>"
      ],
      "text/plain": [
       "         date ticker  score_neg  score_neu  score_pos  score_compound  \\\n",
       "0  2014-01-02    ago      0.000      0.909      0.091          0.9394   \n",
       "1  2014-01-02   awre      0.000      0.909      0.091          0.9394   \n",
       "2  2014-01-02    ago      0.000      0.885      0.115          0.2960   \n",
       "3  2014-01-02    ago      0.000      0.936      0.064          0.2960   \n",
       "4  2014-01-02   fund      0.031      0.879      0.089          0.5707   \n",
       "\n",
       "   parent_score_neg  parent_score_neu  parent_score_pos  \\\n",
       "0             0.045              0.83             0.125   \n",
       "1             0.045              0.83             0.125   \n",
       "2             0.045              0.83             0.125   \n",
       "3             0.045              0.83             0.125   \n",
       "4             0.045              0.83             0.125   \n",
       "\n",
       "   parent_score_compound  ...  day_increase  tomorrw_is_buy  \\\n",
       "0                 0.9923  ...       0.98643               0   \n",
       "1                 0.9923  ...       0.99018               0   \n",
       "2                 0.9923  ...       0.98643               0   \n",
       "3                 0.9923  ...       0.98643               0   \n",
       "4                 0.9923  ...       0.99344               0   \n",
       "\n",
       "   tomorrow_is_strong_buy  week_increase  week_is_buy  week_is_strong_buy  \\\n",
       "0                       0        1.00000            0                   0   \n",
       "1                       0        1.00000            0                   0   \n",
       "2                       0        1.00000            0                   0   \n",
       "3                       0        1.00000            0                   0   \n",
       "4                       0        1.01717            0                   0   \n",
       "\n",
       "   4week_is_buy  4week_is_strong_buy       volume  today_close  \n",
       "0             0                    0  53000.78535    20.229889  \n",
       "1             1                    1   3997.22252     4.453092  \n",
       "2             0                    0  53000.78535    20.229889  \n",
       "3             0                    0  53000.78535    20.229889  \n",
       "4             0                    0   8010.22674     4.394382  \n",
       "\n",
       "[5 rows x 28 columns]"
      ]
     },
     "execution_count": 2,
     "metadata": {},
     "output_type": "execute_result"
    }
   ],
   "source": [
    "#training as y target values of y = tomororrow_is_buy\n",
    "data = pd.read_csv('out.csv')\n",
    "data.drop(data.columns[data.columns.str.contains('unnamed',case = False)],axis = 1, inplace = True)\n",
    "data = data.dropna(axis=1)\n",
    "X = data.drop([\"date\",\"ticker\",\"tomorrw_is_buy\",\"tomorrow_is_strong_buy\",\"week_is_buy\",\"week_is_strong_buy\",\"4week_is_buy\",\"4week_is_strong_buy\"],axis=1)\n",
    "y = data.tomorrw_is_buy\n",
    "X = X.values\n",
    "y = y.values\n",
    "data.head()"
   ]
  },
  {
   "cell_type": "code",
   "execution_count": 3,
   "id": "34d35917",
   "metadata": {},
   "outputs": [
    {
     "name": "stdout",
     "output_type": "stream",
     "text": [
      "CPU times: user 70.5 ms, sys: 2.62 ms, total: 73.2 ms\n",
      "Wall time: 108 ms\n"
     ]
    }
   ],
   "source": [
    "%%time\n",
    "for i in range(1000000):  # Burn some CPU cycles in a\n",
    "    pass                  # loop that does nothing"
   ]
  },
  {
   "cell_type": "code",
   "execution_count": 4,
   "id": "68296c08",
   "metadata": {},
   "outputs": [
    {
     "name": "stdout",
     "output_type": "stream",
     "text": [
      "(240956, 20) (80319, 20) (240956,) (80319,)\n"
     ]
    }
   ],
   "source": [
    "#split data into 60-20-20\n",
    "#test set\n",
    "x_remaining, Xtest, y_remaining, ytest = sklearn.model_selection.train_test_split(X, y, test_size=0.20,\n",
    "                                                                                  random_state=0)\n",
    "#validation and training set\n",
    "Xtrn, Xval, ytrn, yval = sklearn.model_selection.train_test_split(x_remaining, y_remaining, test_size=0.25,\n",
    "                                                                  random_state=0)\n",
    "print(Xtrn.shape,Xval.shape,ytrn.shape,yval.shape)"
   ]
  },
  {
   "cell_type": "code",
   "execution_count": 5,
   "id": "d52e8df2",
   "metadata": {},
   "outputs": [],
   "source": [
    "#scaling values \n",
    "scaler = sklearn.preprocessing.StandardScaler()\n",
    "X_trn = scaler.fit_transform(Xtrn.reshape(Xtrn.shape[0],-1))\n",
    "X_test = scaler.transform(Xtest.reshape(Xtest.shape[0],-1))\n",
    "X_val = scaler.transform(Xval.reshape(Xval.shape[0],-1))"
   ]
  },
  {
   "cell_type": "code",
   "execution_count": 6,
   "id": "c84237a1",
   "metadata": {},
   "outputs": [],
   "source": [
    "import importlib\n",
    "def train_estimators(X, y, estimator_type, param_name, param_vals, **kwargs):\n",
    "    train_estimator = [] \n",
    "    s = \"%s\" %kwargs #converts kwargs to string \n",
    "    s = str(estimator_type).split(\"'\")[1]      #gets import_module which is sklearn.tree \n",
    "    position1 = (s.find(\".\"))\n",
    "    position2 = (s.find(\".\",position1+1))\n",
    "    \n",
    "    for i in range(len(param_vals)):\n",
    "        model_class = getattr(importlib.import_module(s[:position2]),(str(estimator_type).split(\".\")[-1][:-2]))\n",
    "        kwargs[param_name] = param_vals[i] #adds param_name into the kwargs dictionnary\n",
    "        model = model_class(**kwargs)  # instantiates the model\n",
    "        train_estimator.append(model.fit(X,y))\n",
    "        print(f' Training {train_estimator[i]}...')\n",
    "    return train_estimator"
   ]
  },
  {
   "cell_type": "code",
   "execution_count": 7,
   "id": "a0022b5c",
   "metadata": {},
   "outputs": [],
   "source": [
    "def score_estimators(X, y, estimators):\n",
    "    score = []\n",
    "    for i in range(np.array(estimators).shape[0]):\n",
    "         score.append(estimators[i].score(X,y))\n",
    "    return score"
   ]
  },
  {
   "cell_type": "code",
   "execution_count": 8,
   "id": "4b2e7b22",
   "metadata": {},
   "outputs": [],
   "source": [
    "def plot_estimator_scores(estimators, param_name, param_vals):\n",
    "    train_score,val_score,test_score = [],[],[]\n",
    "    train_score = score_estimators(X_trn,ytrn,estimators)\n",
    "    val_score = score_estimators(X_val, yval, estimators)\n",
    "    test_score = score_estimators(X_test, ytest, estimators)\n",
    "    #finding best scores  \n",
    "    best_train = max(np.array(train_score))\n",
    "    best_val = max(np.array(val_score))\n",
    "    best_test = max(np.array(test_score))\n",
    "    min_score = np.concatenate((train_score,val_score,test_score))\n",
    "    best_score = np.concatenate((train_score,val_score,test_score))\n",
    "    #plotting code\n",
    "    #makes sure the x axis points are evenly spaced\n",
    "    locs, labels = plt.xticks() \n",
    "    plt.plot(locs,np.array(train_score).ravel(),'-ok',color='green',label='train = %.3f' %(best_train))\n",
    "    plt.plot(locs,val_score,'-ok',color='red',label='validate = %.3f' %(best_val))\n",
    "    plt.plot(locs,test_score,linestyle='dotted',color='black',label='test = %.3f' %(best_test))\n",
    "    plt.scatter(locs[val_score.index(best_val)],best_val, s=150, marker='x',color=\"red\")\n",
    "    plt.xticks(locs,param_vals)\n",
    "    plt.ylim(0,1.02)\n",
    "  #  plt.ylim(min(min_score)-0.02,max(best_score)+0.01)\n",
    "    plt.legend(loc=\"lower left\")\n",
    "    plt.xlabel(param_name)\n",
    "    plt.ylabel(\"score\")\n",
    "    plt.title(f'{estimators[0].__class__.__name__} score vs {param_name}')"
   ]
  },
  {
   "cell_type": "code",
   "execution_count": 9,
   "id": "6bd3b937",
   "metadata": {},
   "outputs": [
    {
     "name": "stdout",
     "output_type": "stream",
     "text": [
      " Training DecisionTreeClassifier(max_depth=1, random_state=0, splitter='random')...\n",
      " Training DecisionTreeClassifier(max_depth=5, random_state=0, splitter='random')...\n",
      " Training DecisionTreeClassifier(max_depth=10, random_state=0, splitter='random')...\n",
      " Training DecisionTreeClassifier(max_depth=20, random_state=0, splitter='random')...\n",
      " Training DecisionTreeClassifier(max_depth=50, random_state=0, splitter='random')...\n",
      " Training DecisionTreeClassifier(max_depth=100, random_state=0, splitter='random')...\n",
      "CPU times: user 9 s, sys: 245 ms, total: 9.25 s\n",
      "Wall time: 9.78 s\n"
     ]
    },
    {
     "data": {
      "text/plain": [
       "['tree_estimators.joblib']"
      ]
     },
     "execution_count": 9,
     "metadata": {},
     "output_type": "execute_result"
    },
    {
     "data": {
      "image/png": "[encoded data removed]",
      "text/plain": [
       "<Figure size 432x288 with 1 Axes>"
      ]
     },
     "metadata": {
      "needs_background": "light"
     },
     "output_type": "display_data"
    }
   ],
   "source": [
    "%%time\n",
    "tree_estimators = train_estimators(X_trn, ytrn, sklearn.tree.DecisionTreeClassifier,\n",
    "                                   'max_depth', [1, 5, 10, 20, 50, 100], splitter='random', random_state=0)\n",
    "plot_estimator_scores(tree_estimators,'max_depth',[1, 5, 10, 20, 50, 100])\n",
    "joblib.dump(tree_estimators, \"tree_estimators.joblib\")"
   ]
  },
  {
   "cell_type": "code",
   "execution_count": 10,
   "id": "8e695d05",
   "metadata": {},
   "outputs": [
    {
     "name": "stdout",
     "output_type": "stream",
     "text": [
      " Training RandomForestClassifier(max_depth=1, random_state=0)...\n",
      " Training RandomForestClassifier(max_depth=5, random_state=0)...\n",
      " Training RandomForestClassifier(max_depth=10, random_state=0)...\n",
      " Training RandomForestClassifier(max_depth=20, random_state=0)...\n",
      " Training RandomForestClassifier(max_depth=50, random_state=0)...\n",
      " Training RandomForestClassifier(max_depth=100, random_state=0)...\n",
      "CPU times: user 8min 39s, sys: 6.3 s, total: 8min 45s\n",
      "Wall time: 9min 34s\n"
     ]
    }
   ],
   "source": [
    "%%time\n",
    "forest = train_estimators(X_trn, ytrn, sklearn.ensemble.RandomForestClassifier,\n",
    "                                   'max_depth', [1, 5, 10, 20, 50, 100], random_state=0)"
   ]
  },
  {
   "cell_type": "code",
   "execution_count": null,
   "id": "35d3d550",
   "metadata": {},
   "outputs": [],
   "source": [
    "%%time\n",
    "joblib.dump(forest, \"forest.joblib\")\n",
    "plot_estimator_scores(forest,'max_depth',[1, 5, 10, 20, 50, 100])"
   ]
  },
  {
   "cell_type": "code",
   "execution_count": null,
   "id": "1bf9cc3d",
   "metadata": {},
   "outputs": [],
   "source": [
    "%%time\n",
    "logistic = train_estimators(X_trn, ytrn, sklearn.linear_model.LogisticRegression,\n",
    "                                   'C', [1e-05, 0.0001, 0.001, 0.01, 0.1,1.0], max_iter=10000,random_state=0)\n",
    "plot_estimator_scores(logistic,'C',[1e-05, 0.0001, 0.001, 0.01, 0.1, 1.0])\n",
    "joblib.dump(logistic, \"logistic.joblib\")"
   ]
  },
  {
   "cell_type": "code",
   "execution_count": null,
   "id": "0d00d426",
   "metadata": {},
   "outputs": [],
   "source": [
    "%%time\n",
    "import warnings\n",
    "warnings.filterwarnings('ignore', 'Solver terminated early.*')\n",
    "svm = train_estimators(X_trn, ytrn, sklearn.svm.SVC,\n",
    "                                   'C', [0.01, 0.1,1.0, 10.0, 100.0,1000.0], gamma=0.001,max_iter=100,random_state=0)"
   ]
  },
  {
   "cell_type": "code",
   "execution_count": null,
   "id": "e7f93c20",
   "metadata": {},
   "outputs": [],
   "source": [
    "%%time\n",
    "joblib.dump(svm, \"svm.joblib\")\n",
    "plot_estimator_scores(svm,'C',[0.01, 0.1,1.0, 10.0, 100.0,1000.0])"
   ]
  },
  {
   "cell_type": "code",
   "execution_count": null,
   "id": "12fd7548",
   "metadata": {},
   "outputs": [],
   "source": [
    "X = data.drop([\"date\",\"ticker\",\"tomorrw_is_buy\",\"tomorrow_is_strong_buy\",\"week_is_buy\",\"week_is_strong_buy\",\"4week_is_buy\",\"4week_is_strong_buy\"],axis=1)\n",
    "y = data.week_is_buy\n",
    "X = X.values\n",
    "y = y.values\n",
    "#split data into 60-20-20\n",
    "#test set\n",
    "x_remaining, Xtest, y_remaining, ytest = sklearn.model_selection.train_test_split(X, y, test_size=0.20,\n",
    "                                                                                  random_state=0)\n",
    "#validation and training set\n",
    "Xtrn, Xval, ytrn, yval = sklearn.model_selection.train_test_split(x_remaining, y_remaining, test_size=0.25,\n",
    "                                                                  random_state=0)\n",
    "\n",
    "#scaling values \n",
    "scaler = sklearn.preprocessing.StandardScaler()\n",
    "X_trn = scaler.fit_transform(Xtrn.reshape(Xtrn.shape[0],-1))\n",
    "X_test = scaler.transform(Xtest.reshape(Xtest.shape[0],-1))\n",
    "X_val = scaler.transform(Xval.reshape(Xval.shape[0],-1))"
   ]
  },
  {
   "cell_type": "code",
   "execution_count": null,
   "id": "1ca485b8",
   "metadata": {},
   "outputs": [],
   "source": [
    "%%time\n",
    "tree_estimators = train_estimators(X_trn, ytrn, sklearn.tree.DecisionTreeClassifier,\n",
    "                                   'max_depth', [1, 5, 10, 20, 50, 100], splitter='random', random_state=0)\n",
    "plot_estimator_scores(tree_estimators,'max_depth',[1, 5, 10, 20, 50, 100])\n",
    "joblib.dump(tree_estimators, \"tree_estimators2.joblib\")"
   ]
  },
  {
   "cell_type": "code",
   "execution_count": null,
   "id": "9b127f0d",
   "metadata": {},
   "outputs": [],
   "source": [
    "%%time\n",
    "forest = train_estimators(X_trn, ytrn, sklearn.ensemble.RandomForestClassifier,\n",
    "                                   'max_depth', [1, 5, 10, 20, 50, 100], random_state=0)"
   ]
  },
  {
   "cell_type": "code",
   "execution_count": null,
   "id": "3bf6bd6f",
   "metadata": {},
   "outputs": [],
   "source": [
    "%%time\n",
    "joblib.dump(forest, \"forest2.joblib\")\n",
    "plot_estimator_scores(forest,'max_depth',[1, 5, 10, 20, 50, 100])"
   ]
  },
  {
   "cell_type": "code",
   "execution_count": null,
   "id": "9c6cd0b0",
   "metadata": {},
   "outputs": [],
   "source": [
    "%%time\n",
    "logistic = train_estimators(X_trn, ytrn, sklearn.linear_model.LogisticRegression,\n",
    "                                   'C', [1e-05, 0.0001, 0.001, 0.01, 0.1,1.0], max_iter=10000,random_state=0)\n",
    "plot_estimator_scores(logistic,'C',[1e-05, 0.0001, 0.001, 0.01, 0.1, 1.0])\n",
    "joblib.dump(logistic, \"logistic2.joblib\")"
   ]
  },
  {
   "cell_type": "code",
   "execution_count": null,
   "id": "be8b536b",
   "metadata": {},
   "outputs": [],
   "source": [
    "%%time\n",
    "import warnings\n",
    "warnings.filterwarnings('ignore', 'Solver terminated early.*')\n",
    "svm = train_estimators(X_trn, ytrn, sklearn.svm.SVC,\n",
    "                                   'C', [0.01, 0.1,1.0, 10.0, 100.0,1000.0], gamma=0.001,max_iter=100,random_state=0)"
   ]
  },
  {
   "cell_type": "code",
   "execution_count": null,
   "id": "6f8ead37",
   "metadata": {},
   "outputs": [],
   "source": [
    "%%time\n",
    "joblib.dump(svm, \"svm2.joblib\")\n",
    "plot_estimator_scores(svm,'C',[0.01, 0.1,1.0, 10.0, 100.0,1000.0])"
   ]
  },
  {
   "cell_type": "code",
   "execution_count": null,
   "id": "26e223ca",
   "metadata": {},
   "outputs": [],
   "source": [
    "X = data.drop([\"date\",\"ticker\",\"tomorrw_is_buy\",\"tomorrow_is_strong_buy\",\"week_is_buy\",\"week_is_strong_buy\",\"4week_is_buy\",\"4week_is_strong_buy\"],axis=1)\n",
    "y = data[\"4week_is_buy\"]\n",
    "X = X.values\n",
    "y = y.values\n",
    "#split data into 60-20-20\n",
    "#test set\n",
    "x_remaining, Xtest, y_remaining, ytest = sklearn.model_selection.train_test_split(X, y, test_size=0.20,\n",
    "                                                                                  random_state=0)\n",
    "#validation and training set\n",
    "Xtrn, Xval, ytrn, yval = sklearn.model_selection.train_test_split(x_remaining, y_remaining, test_size=0.25,\n",
    "                                                                  random_state=0)\n",
    "\n",
    "#scaling values \n",
    "scaler = sklearn.preprocessing.StandardScaler()\n",
    "X_trn = scaler.fit_transform(Xtrn.reshape(Xtrn.shape[0],-1))\n",
    "X_test = scaler.transform(Xtest.reshape(Xtest.shape[0],-1))\n",
    "X_val = scaler.transform(Xval.reshape(Xval.shape[0],-1))"
   ]
  },
  {
   "cell_type": "code",
   "execution_count": null,
   "id": "c8f46577",
   "metadata": {},
   "outputs": [],
   "source": [
    "%%time\n",
    "tree_estimators = train_estimators(X_trn, ytrn, sklearn.tree.DecisionTreeClassifier,\n",
    "                                   'max_depth', [1, 5, 10, 20, 50, 100], splitter='random', random_state=0)\n",
    "plot_estimator_scores(tree_estimators,'max_depth',[1, 5, 10, 20, 50, 100])\n",
    "joblib.dump(tree_estimators, \"tree_estimators3.joblib\")"
   ]
  },
  {
   "cell_type": "code",
   "execution_count": null,
   "id": "f56f15bf",
   "metadata": {},
   "outputs": [],
   "source": [
    "%%time\n",
    "forest = train_estimators(X_trn, ytrn, sklearn.ensemble.RandomForestClassifier,\n",
    "                                   'max_depth', [1, 5, 10, 20, 50, 100], random_state=0)"
   ]
  },
  {
   "cell_type": "code",
   "execution_count": null,
   "id": "d575ff90",
   "metadata": {},
   "outputs": [],
   "source": [
    "%%time\n",
    "joblib.dump(forest, \"forest3.joblib\")\n",
    "plot_estimator_scores(forest,'max_depth',[1, 5, 10, 20, 50, 100])"
   ]
  },
  {
   "cell_type": "code",
   "execution_count": null,
   "id": "e220fe40",
   "metadata": {},
   "outputs": [],
   "source": [
    "%%time\n",
    "logistic = train_estimators(X_trn, ytrn, sklearn.linear_model.LogisticRegression,\n",
    "                                   'C', [1e-05, 0.0001, 0.001, 0.01, 0.1,1.0], max_iter=10000,random_state=0)\n",
    "plot_estimator_scores(logistic,'C',[1e-05, 0.0001, 0.001, 0.01, 0.1, 1.0])\n",
    "joblib.dump(logistic, \"logistic3.joblib\")"
   ]
  },
  {
   "cell_type": "code",
   "execution_count": null,
   "id": "c4d7338f",
   "metadata": {},
   "outputs": [],
   "source": [
    "%%time\n",
    "import warnings\n",
    "warnings.filterwarnings('ignore', 'Solver terminated early.*')\n",
    "svm = train_estimators(X_trn, ytrn, sklearn.svm.SVC,\n",
    "                                   'C', [0.01, 0.1,1.0, 10.0, 100.0,1000.0], gamma=0.001,max_iter=100,random_state=0)"
   ]
  },
  {
   "cell_type": "code",
   "execution_count": null,
   "id": "7aad8f3a",
   "metadata": {},
   "outputs": [],
   "source": [
    "%%time\n",
    "joblib.dump(svm, \"svm3.joblib\")\n",
    "plot_estimator_scores(svm,'C',[0.01, 0.1,1.0, 10.0, 100.0,1000.0])"
   ]
  }
 ],
 "metadata": {
  "kernelspec": {
   "display_name": "Python 3",
   "language": "python",
   "name": "python3"
  },
  "language_info": {
   "codemirror_mode": {
    "name": "ipython",
    "version": 3
   },
   "file_extension": ".py",
   "mimetype": "text/x-python",
   "name": "python",
   "nbconvert_exporter": "python",
   "pygments_lexer": "ipython3",
   "version": "3.8.8"
  }
 },
 "nbformat": 4,
 "nbformat_minor": 5
}
